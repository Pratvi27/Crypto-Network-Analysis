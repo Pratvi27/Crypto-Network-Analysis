{
  "cells": [
    {
      "cell_type": "code",
      "execution_count": null,
      "metadata": {
        "colab": {
          "base_uri": "https://localhost:8080/"
        },
        "id": "qCGAAMdoSttQ",
        "outputId": "360cc42a-d11c-4353-cb3b-7f401069f72c"
      },
      "outputs": [],
      "source": [
        "!pip install polygon-api-client"
      ]
    },
    {
      "cell_type": "code",
      "execution_count": 3,
      "metadata": {
        "colab": {
          "base_uri": "https://localhost:8080/"
        },
        "id": "x3hRBEnJ2Odr",
        "outputId": "092396e7-8a7f-42bb-d95d-3bc2596b690f"
      },
      "outputs": [
        {
          "name": "stdout",
          "output_type": "stream",
          "text": [
            "Mounted at /content/drive\n"
          ]
        }
      ],
      "source": [
        "from google.colab import drive\n",
        "drive.mount('/content/drive')"
      ]
    },
    {
      "cell_type": "code",
      "execution_count": 2,
      "metadata": {
        "id": "w16nChUs13wC"
      },
      "outputs": [],
      "source": [
        "import datetime\n",
        "import pandas as pd\n",
        "import numpy as np\n",
        "from polygon import RESTClient\n",
        "import glob"
      ]
    },
    {
      "cell_type": "markdown",
      "metadata": {},
      "source": [
        "## Timeseries Data"
      ]
    },
    {
      "cell_type": "code",
      "execution_count": null,
      "metadata": {
        "colab": {
          "base_uri": "https://localhost:8080/",
          "height": 206
        },
        "id": "9NJhXVqm2WXa",
        "outputId": "1d9309b4-d86e-4004-828b-80d45aa4b1d1"
      },
      "outputs": [
        {
          "data": {
            "text/html": [
              "\n",
              "  <div id=\"df-8c82e28f-6d16-4f9f-8b71-767b7084628d\">\n",
              "    <div class=\"colab-df-container\">\n",
              "      <div>\n",
              "<style scoped>\n",
              "    .dataframe tbody tr th:only-of-type {\n",
              "        vertical-align: middle;\n",
              "    }\n",
              "\n",
              "    .dataframe tbody tr th {\n",
              "        vertical-align: top;\n",
              "    }\n",
              "\n",
              "    .dataframe thead th {\n",
              "        text-align: right;\n",
              "    }\n",
              "</style>\n",
              "<table border=\"1\" class=\"dataframe\">\n",
              "  <thead>\n",
              "    <tr style=\"text-align: right;\">\n",
              "      <th></th>\n",
              "      <th>Rank</th>\n",
              "      <th>Ticker</th>\n",
              "      <th>Name</th>\n",
              "    </tr>\n",
              "  </thead>\n",
              "  <tbody>\n",
              "    <tr>\n",
              "      <th>0</th>\n",
              "      <td>1</td>\n",
              "      <td>X:BTCUSD</td>\n",
              "      <td>bitcoin</td>\n",
              "    </tr>\n",
              "    <tr>\n",
              "      <th>1</th>\n",
              "      <td>2</td>\n",
              "      <td>X:ETHUSD</td>\n",
              "      <td>ethereum</td>\n",
              "    </tr>\n",
              "    <tr>\n",
              "      <th>2</th>\n",
              "      <td>4</td>\n",
              "      <td>X:BNBUSD</td>\n",
              "      <td>bnb</td>\n",
              "    </tr>\n",
              "    <tr>\n",
              "      <th>3</th>\n",
              "      <td>6</td>\n",
              "      <td>X:ADAUSD</td>\n",
              "      <td>cardano</td>\n",
              "    </tr>\n",
              "    <tr>\n",
              "      <th>4</th>\n",
              "      <td>7</td>\n",
              "      <td>X:SOLUSD</td>\n",
              "      <td>solana</td>\n",
              "    </tr>\n",
              "  </tbody>\n",
              "</table>\n",
              "</div>\n",
              "      <button class=\"colab-df-convert\" onclick=\"convertToInteractive('df-8c82e28f-6d16-4f9f-8b71-767b7084628d')\"\n",
              "              title=\"Convert this dataframe to an interactive table.\"\n",
              "              style=\"display:none;\">\n",
              "        \n",
              "  <svg xmlns=\"http://www.w3.org/2000/svg\" height=\"24px\"viewBox=\"0 0 24 24\"\n",
              "       width=\"24px\">\n",
              "    <path d=\"M0 0h24v24H0V0z\" fill=\"none\"/>\n",
              "    <path d=\"M18.56 5.44l.94 2.06.94-2.06 2.06-.94-2.06-.94-.94-2.06-.94 2.06-2.06.94zm-11 1L8.5 8.5l.94-2.06 2.06-.94-2.06-.94L8.5 2.5l-.94 2.06-2.06.94zm10 10l.94 2.06.94-2.06 2.06-.94-2.06-.94-.94-2.06-.94 2.06-2.06.94z\"/><path d=\"M17.41 7.96l-1.37-1.37c-.4-.4-.92-.59-1.43-.59-.52 0-1.04.2-1.43.59L10.3 9.45l-7.72 7.72c-.78.78-.78 2.05 0 2.83L4 21.41c.39.39.9.59 1.41.59.51 0 1.02-.2 1.41-.59l7.78-7.78 2.81-2.81c.8-.78.8-2.07 0-2.86zM5.41 20L4 18.59l7.72-7.72 1.47 1.35L5.41 20z\"/>\n",
              "  </svg>\n",
              "      </button>\n",
              "      \n",
              "  <style>\n",
              "    .colab-df-container {\n",
              "      display:flex;\n",
              "      flex-wrap:wrap;\n",
              "      gap: 12px;\n",
              "    }\n",
              "\n",
              "    .colab-df-convert {\n",
              "      background-color: #E8F0FE;\n",
              "      border: none;\n",
              "      border-radius: 50%;\n",
              "      cursor: pointer;\n",
              "      display: none;\n",
              "      fill: #1967D2;\n",
              "      height: 32px;\n",
              "      padding: 0 0 0 0;\n",
              "      width: 32px;\n",
              "    }\n",
              "\n",
              "    .colab-df-convert:hover {\n",
              "      background-color: #E2EBFA;\n",
              "      box-shadow: 0px 1px 2px rgba(60, 64, 67, 0.3), 0px 1px 3px 1px rgba(60, 64, 67, 0.15);\n",
              "      fill: #174EA6;\n",
              "    }\n",
              "\n",
              "    [theme=dark] .colab-df-convert {\n",
              "      background-color: #3B4455;\n",
              "      fill: #D2E3FC;\n",
              "    }\n",
              "\n",
              "    [theme=dark] .colab-df-convert:hover {\n",
              "      background-color: #434B5C;\n",
              "      box-shadow: 0px 1px 3px 1px rgba(0, 0, 0, 0.15);\n",
              "      filter: drop-shadow(0px 1px 2px rgba(0, 0, 0, 0.3));\n",
              "      fill: #FFFFFF;\n",
              "    }\n",
              "  </style>\n",
              "\n",
              "      <script>\n",
              "        const buttonEl =\n",
              "          document.querySelector('#df-8c82e28f-6d16-4f9f-8b71-767b7084628d button.colab-df-convert');\n",
              "        buttonEl.style.display =\n",
              "          google.colab.kernel.accessAllowed ? 'block' : 'none';\n",
              "\n",
              "        async function convertToInteractive(key) {\n",
              "          const element = document.querySelector('#df-8c82e28f-6d16-4f9f-8b71-767b7084628d');\n",
              "          const dataTable =\n",
              "            await google.colab.kernel.invokeFunction('convertToInteractive',\n",
              "                                                     [key], {});\n",
              "          if (!dataTable) return;\n",
              "\n",
              "          const docLinkHtml = 'Like what you see? Visit the ' +\n",
              "            '<a target=\"_blank\" href=https://colab.research.google.com/notebooks/data_table.ipynb>data table notebook</a>'\n",
              "            + ' to learn more about interactive tables.';\n",
              "          element.innerHTML = '';\n",
              "          dataTable['output_type'] = 'display_data';\n",
              "          await google.colab.output.renderOutput(dataTable, element);\n",
              "          const docLink = document.createElement('div');\n",
              "          docLink.innerHTML = docLinkHtml;\n",
              "          element.appendChild(docLink);\n",
              "        }\n",
              "      </script>\n",
              "    </div>\n",
              "  </div>\n",
              "  "
            ],
            "text/plain": [
              "  Rank    Ticker      Name\n",
              "0    1  X:BTCUSD   bitcoin\n",
              "1    2  X:ETHUSD  ethereum\n",
              "2    4  X:BNBUSD       bnb\n",
              "3    6  X:ADAUSD   cardano\n",
              "4    7  X:SOLUSD    solana"
            ]
          },
          "execution_count": 5,
          "metadata": {},
          "output_type": "execute_result"
        }
      ],
      "source": [
        "crypto_data = pd.read_csv('https://docs.google.com/spreadsheets/d/e/2PACX-1vRxA6a1mj2xkdNYbzQYbhijAB6yB_ijHO51IpemYqb4k-YVqOzAfTi35xoSECzlCXbvmy8Uf7RsCGBr/pub?gid=2120570852&single=true&output=csv')\n",
        "crypto_data['Ticker'] = ['X:'+crypto_data['Ticker'][i] + 'USD' for i in range(len(crypto_data['Ticker']))]\n",
        "crypto_data.head()"
      ]
    },
    {
      "cell_type": "code",
      "execution_count": null,
      "metadata": {
        "id": "kdUk47_YRUvQ"
      },
      "outputs": [],
      "source": [
        "def ts_to_datetime(ts) -> str:\n",
        "    return datetime.datetime.fromtimestamp(ts / 1000.0).strftime('%Y-%m-%d %H:%M')\n",
        "\n",
        "\n",
        "def main():\n",
        "    #REPLACE KEY\n",
        "    key = \"ayaS0IEAdO4NbNiftfNf8jhNwKfoRJhQ\"\n",
        "    folderName = '/content/drive/Shareddrives/BTP/CryptoData/'\n",
        "    tickers = crypto_data['Ticker'][:160]\n",
        "    no_results = []\n",
        "    no_vw = []\n",
        "    count = -1\n",
        "    \n",
        "    # RESTClient can be used as a context manager to facilitate closing the underlying http session\n",
        "    # https://requests.readthedocs.io/en/master/user/advanced/#session-objects\n",
        "    with RESTClient(key) as client:\n",
        "        from_ = \"2015-01-01\"\n",
        "        to = \"2022-02-01\"\n",
        "        for tic in tickers:\n",
        "          count+=1\n",
        "          resp = client.crypto_aggregates(tic, 1, \"day\", from_, to, unadjusted=False)\n",
        "          print(f\"Daily aggregate for {count} : {resp.ticker} between {from_} and {to}.\")\n",
        "          dates = []\n",
        "          opening = []\n",
        "          closing = []\n",
        "          highest = []\n",
        "          lowest = []\n",
        "          v = []\n",
        "          vw = []\n",
        "          n = []      \n",
        "          if resp.resultsCount==0:\n",
        "            print('No results.')\n",
        "            no_results.append(tic)\n",
        "          else:\n",
        "            for result in resp.results:\n",
        "                dt = ts_to_datetime(result[\"t\"])\n",
        "                dates.append(dt)\n",
        "                opening.append(result['o'])\n",
        "                highest.append(result['h'])\n",
        "                lowest.append(result['l'])\n",
        "                closing.append(result['c'])\n",
        "                n.append(result['n'])\n",
        "                v.append(result['v'])\n",
        "                if 'vw' in result:\n",
        "                  vw.append(result['vw'])\n",
        "                else:\n",
        "                  vw.append('')\n",
        "                \n",
        "            df = pd.DataFrame(np.transpose([dates,opening,closing,highest,lowest,n,v, vw]), columns = ['Date','O','C','H','L','N','V','VW'])\n",
        "            df.to_excel(folderName + tic.split(':')[-1][:-3]+'.xlsx')\n",
        "            print(tic,' completed.')\n",
        "    return no_results\n",
        "\n",
        "if __name__ == '__main__':\n",
        "    no_results_list = main()"
      ]
    },
    {
      "cell_type": "code",
      "execution_count": null,
      "metadata": {
        "colab": {
          "base_uri": "https://localhost:8080/"
        },
        "id": "Se3i2nUby1I7",
        "outputId": "c06074e9-f29f-4e45-be0e-e7649d05169a"
      },
      "outputs": [
        {
          "data": {
            "text/plain": [
              "100"
            ]
          },
          "execution_count": 57,
          "metadata": {},
          "output_type": "execute_result"
        }
      ],
      "source": [
        "count =0\n",
        "for _ in glob.glob('/content/drive/Shareddrives/BTP/CryptoData/*.xlsx'):\n",
        "  count+=1\n",
        "count"
      ]
    },
    {
      "cell_type": "code",
      "execution_count": null,
      "metadata": {
        "id": "Jjm6l__b45rX"
      },
      "outputs": [],
      "source": [
        "pd.DataFrame(no_results_list,columns=['Ticker']).to_excel('/content/drive/Shareddrives/BTP/no_result_list.xlsx')"
      ]
    },
    {
      "cell_type": "markdown",
      "metadata": {
        "id": "THkw2zaG40UR"
      },
      "source": [
        "## Tweepy"
      ]
    },
    {
      "cell_type": "code",
      "execution_count": 4,
      "metadata": {
        "colab": {
          "base_uri": "https://localhost:8080/"
        },
        "id": "dApjOf_4a9oS",
        "outputId": "de4bf4fc-f718-4803-a2e1-96f42f16a131"
      },
      "outputs": [
        {
          "name": "stdout",
          "output_type": "stream",
          "text": [
            "Enter Twitter HashTag to search for\n",
            "Enter Date since The Tweets are required in yyyy-mm--dd\n",
            "100% complete for  $btc\n",
            "Scraping has completed!\n"
          ]
        }
      ],
      "source": [
        "# Python Script to Extract tweets of a\n",
        "# particular Hashtag using Tweepy and Pandas\n",
        "\n",
        "\n",
        "# import modules\n",
        "import pandas as pd\n",
        "import tweepy\n",
        "\n",
        "\n",
        "# function to display data of each tweet\n",
        "def printtweetdata(n, ith_tweet):\n",
        "\tprint()\n",
        "\tprint(f\"Tweet {n}:\")\n",
        "\tprint(f\"Username:{ith_tweet[0]}\")\n",
        "\tprint(f\"Tweet Text:{ith_tweet[1]}\")\n",
        "\tprint(f\"Hashtags Used:{ith_tweet[-1]}\")\n",
        "\n",
        "\n",
        "# function to perform data extraction\n",
        "def scrape(words, date_since, date_till, numtweet):\n",
        "\t\n",
        "\t# Creating DataFrame using pandas\n",
        "\tdb = pd.DataFrame(columns=['username', 'text', 'retweeted','tweet_time', 'description(bio)', 'acc_created', 'friends', 'followers', 'retweet_count','likes_count','hashtags'])\n",
        "\t\n",
        "\t# We are using .Cursor() to search through twitter for the required tweets.\n",
        "\t# The number of tweets can be restricted using .items(number of tweets)\n",
        "\tfor k in range(len(words)):\n",
        "\t\ttweets = tweepy.Cursor(api.search, q=words[k], lang=\"en\",\n",
        "\t\t\t\t\t\t\tsince=date_since, tweet_mode='extended').items(numtweet)\n",
        "\t\t\n",
        "\t\t# .Cursor() returns an iterable object. Each item in\n",
        "\t\t# the iterator has various attributes that you can access to\n",
        "\t\t# get information about each tweet\n",
        "\t\tlist_tweets = [tweet for tweet in tweets]\n",
        "\t\t\n",
        "\t\t# Counter to maintain Tweet Count\n",
        "\t\ti = 1\n",
        "\t\t\n",
        "\t\t# we will iterate over each tweet in the list for extracting information about each tweet\n",
        "\t\tfor tweet in list_tweets:\n",
        "\t\t\tusername = tweet.user.screen_name\n",
        "\t\t\thashtags = tweet.entities['hashtags']\n",
        "\t\t\t# print(tweet.created_at, tweet.user.description, tweet.user.created_at, tweet.user.friends_count, tweet.user.followers_count)\n",
        "\t\t\t\n",
        "\t\t\t# Retweets can be distinguished by a retweeted_status attribute,\n",
        "\t\t\t# in case it is an invalid reference, except block will be executed\n",
        "\t\t\ttry:\n",
        "\t\t\t\ttext = tweet.retweeted_status.full_text\n",
        "\t\t\t\tretweeted = 'True'\n",
        "\t\t\texcept AttributeError:\n",
        "\t\t\t\ttext = tweet.full_text\n",
        "\t\t\t\tretweeted = 'False'\n",
        "\t\t\t\n",
        "\t\t\thashtext = list()\n",
        "\t\t\tfor j in range(0, len(hashtags)):\n",
        "\t\t\t\thashtext.append(hashtags[j]['text'])\n",
        "\t\t\n",
        "\t\t  \n",
        "\t\t\t\n",
        "\t\t\t# Here we are appending all the extracted information in the DataFrame\n",
        "\t\t\tith_tweet = [username, text, retweeted, tweet.created_at, tweet.user.description, tweet.user.created_at, tweet.user.friends_count, tweet.user.followers_count, tweet.retweet_count, tweet.favorite_count, hashtext]\n",
        "\t\t\t\n",
        "\t\t\tdb.loc[len(db)] = ith_tweet\n",
        "\t\t\t\n",
        "\t\t\t# Function call to print tweet data on screen\n",
        "\t\t\t# printtweetdata(i, ith_tweet)\n",
        "\t\t\tif i==int(numtweet/2):\n",
        "\t\t\t\tprint('50% complete for ',words[k])\n",
        "\t\t\telif i==numtweet:\n",
        "\t\t\t\tprint('100% complete for ',words[k])\n",
        "\t\t\ti = i+1\n",
        "\t\t\t\n",
        "\tfilename = 'scraped_tweets.csv'\n",
        "\t\n",
        "\t# we will save our database as a CSV file.\n",
        "\tdb.to_csv(filename)\n",
        "\n",
        "\n",
        "if __name__ == '__main__':\n",
        "\t\n",
        "\t#Pratvi credentials\n",
        "  consumer_key = \"pXfG7o1OfnoYaZglzT7jwmSR1\"\n",
        "  consumer_secret = \"Ez9AbZsV2kRfKJRJpYUOmvwXlUc1MTztgEtGmyoKcDl1yDhp1g\"\n",
        "  access_key = \"1482958101964025856-jUZJxrNboZyeq6RKVfeM4yJpSTpwhB\"\n",
        "  access_secret = \"bspdNWX1laW2dpudQdMvK84sgfWj9NfiA8QbydGXcFVpA\"\n",
        "\n",
        "\t#Vishwa credentials\n",
        "\t# consumer_key = \"jVcRthi6uPGz07Fp255MAHfsB\"\n",
        "\t# consumer_secret = \"1jc7zeAjsWP0ecQ8to6aDkkdBr09271MihwQh69OSTmT5WdWmb\"\n",
        "\t# access_key = \"1059738121263243265-Oy5KNZBmpaUm0GMbW5fPmVy398y8oJ\"\n",
        "\t# access_secret = \"sPK9gvoyLARwW490X5blEUKImEYaNmeaIQ6yADz3muTuY\"\n",
        "\t\n",
        "  auth = tweepy.OAuthHandler(consumer_key, consumer_secret)\n",
        "  auth.set_access_token(access_key, access_secret)\n",
        "  api = tweepy.API(auth,wait_on_rate_limit=True,wait_on_rate_limit_notify=True)\n",
        "\n",
        "\t# Enter Hashtag and initial date\n",
        "  print(\"Enter Twitter HashTag to search for\")\n",
        "  words = [\"#crypto\"]\n",
        "  print(\"Enter Date since The Tweets are required in yyyy-mm--dd\")\n",
        "  date_since = \"2017-01-01\";date_till = \"2022-01-01\";\n",
        "\t\n",
        "\t# number of tweets you want to extract in one run\n",
        "  numtweet = 1\n",
        "  scrape(words, date_since,date_till, numtweet)\n",
        "  print('Scraping has completed!')\n"
      ]
    }
  ],
  "metadata": {
    "colab": {
      "collapsed_sections": [
        "THkw2zaG40UR",
        "gVgcVm1-mpCT"
      ],
      "name": "Twitter_Network_Anaysis.ipynb",
      "provenance": []
    },
    "kernelspec": {
      "display_name": "Python 3",
      "name": "python3"
    },
    "language_info": {
      "name": "python"
    }
  },
  "nbformat": 4,
  "nbformat_minor": 0
}
